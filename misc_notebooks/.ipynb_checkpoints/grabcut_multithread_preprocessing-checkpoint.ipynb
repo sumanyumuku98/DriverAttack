{
 "cells": [
  {
   "cell_type": "code",
   "execution_count": null,
   "metadata": {},
   "outputs": [],
   "source": [
    "from multiprocessing import Pool\n",
    "import numpy as np\n",
    "import cv2\n",
    "import os\n",
    "import glob"
   ]
  },
  {
   "cell_type": "code",
   "execution_count": null,
   "metadata": {},
   "outputs": [],
   "source": [
    "def grabcut_image(img_path):\n",
    "        \n",
    "        class_folder = os.path.abspath(img_path).split(\"/\")[-2]\n",
    "        \n",
    "        img = cv2.imread(img_path, cv2.IMREAD_UNCHANGED)\n",
    "        mask = np.zeros(img.shape[:2],np.uint8)\n",
    "        \n",
    "        bgdModel = np.zeros((1,65),np.float64)\n",
    "        fgdModel = np.zeros((1,65),np.float64)\n",
    "\n",
    "        rect = (300,0,1300,1080)\n",
    "        cv2.grabCut(img,mask,rect,bgdModel,fgdModel,5,cv2.GC_INIT_WITH_RECT)\n",
    "\n",
    "        mask2 = np.where((mask==2)|(mask==0),0,1).astype('uint8')\n",
    "        img = img*mask2[:,:,np.newaxis]        \n",
    "        \n",
    "        file_name = os.path.abspath(img_path).split(\"/\")[-1]\n",
    "        \n",
    "        cv2.imwrite('AUCdata_preprocessed/v2_cam1_cam2_ split_by_driver/Camera 1/train/' + class_folder + '/' + file_name, img) "
   ]
  },
  {
   "cell_type": "code",
   "execution_count": null,
   "metadata": {},
   "outputs": [],
   "source": [
    "root_dir = 'v2_cam1_cam2_ split_by_driver/Camera 1/train/'\n",
    "dest_dir = 'AUCdata_preprocessed/v2_cam1_cam2_ split_by_driver/Camera 1/train/'\n",
    "\n",
    "for subdir in  os.listdir(root_dir):\n",
    "    list_of_files = os.listdir(root_dir + subdir)\n",
    "    new_list_of_files = [root_dir + subdir + '/' + i for i in list_of_files]\n",
    "    p = Pool(64)\n",
    "    p.map(grabcut_image, new_list_of_files)"
   ]
  }
 ],
 "metadata": {
  "kernelspec": {
   "display_name": "Python 3",
   "language": "python",
   "name": "python3"
  },
  "language_info": {
   "codemirror_mode": {
    "name": "ipython",
    "version": 2
   },
   "file_extension": ".py",
   "mimetype": "text/x-python",
   "name": "python",
   "nbconvert_exporter": "python",
   "pygments_lexer": "ipython2",
   "version": "2.7.15rc1"
  }
 },
 "nbformat": 4,
 "nbformat_minor": 2
}
