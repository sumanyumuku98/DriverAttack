{
 "cells": [
  {
   "cell_type": "code",
   "execution_count": null,
   "metadata": {},
   "outputs": [],
   "source": [
    "import numpy as np\n",
    "import cv2\n",
    "from matplotlib import pyplot as plt"
   ]
  },
  {
   "cell_type": "code",
   "execution_count": null,
   "metadata": {},
   "outputs": [],
   "source": [
    "IMAGE_PREDIR = 'AUCdata/v2_cam1_cam2_ split_by_driver/'\n",
    "IMAGE_POSTDIR = 'AUCdata_preprocessed/v2_cam1_cam2_ split_by_driver/'\n",
    "CAMERA1='Camera 1/'\n",
    "CAMERA2='Camera 2/'"
   ]
  },
  {
   "cell_type": "code",
   "execution_count": null,
   "metadata": {},
   "outputs": [],
   "source": [
    "sample = cv2.imread(IMAGE_PREDIR+CAMERA1+'/train'+'/c0'+'/1000.jpg', cv2.IMREAD_UNCHANGED)"
   ]
  },
  {
   "cell_type": "code",
   "execution_count": null,
   "metadata": {},
   "outputs": [],
   "source": [
    "sample.shape"
   ]
  },
  {
   "cell_type": "code",
   "execution_count": null,
   "metadata": {},
   "outputs": [],
   "source": [
    "plt.imshow(sample)"
   ]
  },
  {
   "cell_type": "code",
   "execution_count": null,
   "metadata": {
    "scrolled": true
   },
   "outputs": [],
   "source": [
    "img = sample\n",
    "mask = np.zeros(img.shape[:2],np.uint8)\n",
    "\n",
    "bgdModel = np.zeros((1,65),np.float64)\n",
    "fgdModel = np.zeros((1,65),np.float64)\n",
    "\n",
    "rect = (300,100,1200,980)\n",
    "cv2.grabCut(img,mask,rect,bgdModel,fgdModel,5,cv2.GC_INIT_WITH_RECT)\n",
    "\n",
    "mask2 = np.where((mask==2)|(mask==0),0,1).astype('uint8')\n",
    "img = img*mask2[:,:,np.newaxis]\n",
    "\n",
    "plt.imshow(img),plt.colorbar(),plt.show()"
   ]
  },
  {
   "cell_type": "code",
   "execution_count": null,
   "metadata": {},
   "outputs": [],
   "source": [
    "def grabcut_image(img):\n",
    "    mask = np.zeros(img.shape[:2],np.uint8)\n",
    "\n",
    "    bgdModel = np.zeros((1,65),np.float64)\n",
    "    fgdModel = np.zeros((1,65),np.float64)\n",
    "\n",
    "    rect = (300,100,1200,980)\n",
    "    cv2.grabCut(img,mask,rect,bgdModel,fgdModel,5,cv2.GC_INIT_WITH_RECT)\n",
    "\n",
    "    mask2 = np.where((mask==2)|(mask==0),0,1).astype('uint8')\n",
    "    img = img*mask2[:,:,np.newaxis]\n",
    "    \n",
    "    return img"
   ]
  },
  {
   "cell_type": "code",
   "execution_count": null,
   "metadata": {},
   "outputs": [],
   "source": [
    "plt.imshow(grabcut_image(sample))"
   ]
  },
  {
   "cell_type": "code",
   "execution_count": null,
   "metadata": {},
   "outputs": [],
   "source": [
    "import os\n",
    "import glob\n",
    "from tqdm import tqdm"
   ]
  },
  {
   "cell_type": "code",
   "execution_count": null,
   "metadata": {
    "scrolled": true
   },
   "outputs": [],
   "source": [
    "CLASS_LABELS=['c' + str(i) for i in range(0, 10)]\n",
    "for c in CLASS_LABELS:\n",
    "    d = 1\n",
    "    for image in glob.glob(IMAGE_PREDIR+CAMERA1+'train/'+c+'/*.jpg'):\n",
    "        image = cv2.imread(image, cv2.IMREAD_UNCHANGED)\n",
    "        image = grabcut_image(image)\n",
    "        file_path = IMAGE_POSTDIR+CAMERA1+'train/'+c+'/'\n",
    "        file_name = str(d) + \".jpg\"\n",
    "        cv2.imwrite(os.path.join(file_path, file_name), image) \n",
    "        d += 1\n",
    "    print(\"Class \"+c+\" done!\")\n",
    "    \n",
    "\n",
    "for c in CLASS_LABELS:\n",
    "    d = 1\n",
    "    for image in glob.glob(IMAGE_PREDIR+CAMERA2+'train/'+c+'/*.jpg'):\n",
    "        image = cv2.imread(image, cv2.IMREAD_UNCHANGED)\n",
    "        image = grabcut_image(image)\n",
    "        file_path = IMAGE_POSTDIR+CAMERA2+'train/'+c+'/'\n",
    "        file_name = str(d) + \".jpg\"\n",
    "        cv2.imwrite(os.path.join(file_path, file_name), image) \n",
    "        d += 1\n",
    "    print(\"Class \"+c+\" done!\")"
   ]
  },
  {
   "cell_type": "code",
   "execution_count": null,
   "metadata": {},
   "outputs": [],
   "source": []
  }
 ],
 "metadata": {
  "kernelspec": {
   "display_name": "Python 3",
   "language": "python",
   "name": "python3"
  },
  "language_info": {
   "codemirror_mode": {
    "name": "ipython",
    "version": 2
   },
   "file_extension": ".py",
   "mimetype": "text/x-python",
   "name": "python",
   "nbconvert_exporter": "python",
   "pygments_lexer": "ipython2",
   "version": "2.7.15rc1"
  }
 },
 "nbformat": 4,
 "nbformat_minor": 2
}
