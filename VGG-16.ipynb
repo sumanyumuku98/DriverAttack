{
 "cells": [
  {
   "cell_type": "code",
   "execution_count": 1,
   "metadata": {},
   "outputs": [],
   "source": [
    "\n",
    "\"\"\"\n",
    "@author: pickle0412\n",
    "\"\"\"\n",
    "\n",
    "import numpy as np\n",
    "import matplotlib.pyplot as plt\n",
    "import torch \n",
    "import torch.nn as nn\n",
    "import torchvision\n",
    "import torchvision.models as models\n",
    "from torchvision import transforms, utils\n",
    "from torch.utils.data import Dataset, DataLoader\n",
    "from torch.utils.data.sampler import SubsetRandomSampler\n",
    "%matplotlib inline\n",
    "from numpy import moveaxis\n",
    "from skimage import io, transform\n",
    "from torch.autograd import Variable\n",
    "from PIL import Image\n",
    "import os\n",
    "import glob\n",
    "import pandas as pd\n",
    "import random\n",
    "import cv2\n",
    "import plotly\n",
    "# import bokeh\n",
    "from sklearn.metrics import accuracy_score\n",
    "\n",
    "device = torch.device(\"cuda\" if torch.cuda.is_available() else \"cpu\")\n",
    "\n",
    "import warnings\n",
    "warnings.filterwarnings(\"ignore\")\n",
    "\n",
    "plt.ion()"
   ]
  },
  {
   "cell_type": "code",
   "execution_count": 2,
   "metadata": {},
   "outputs": [],
   "source": [
    "vgg = models.vgg16(pretrained=True)\n",
    "for param in vgg.parameters():\n",
    "    param.requires_grad=False\n",
    "    "
   ]
  },
  {
   "cell_type": "code",
   "execution_count": 3,
   "metadata": {},
   "outputs": [],
   "source": [
    "vgg.classifier[6] = torch.nn.Linear(4096,1024)\n",
    "vgg = nn.Sequential(vgg,\n",
    "                    torch.nn.ReLU(),\n",
    "                    torch.nn.Dropout(p=0.3),\n",
    "                    torch.nn.Linear(1024, 128),\n",
    "                    torch.nn.ReLU(),\n",
    "                    torch.nn.Dropout(p=0.2),\n",
    "                    torch.nn.Linear(128, 10))"
   ]
  },
  {
   "cell_type": "code",
   "execution_count": 4,
   "metadata": {},
   "outputs": [],
   "source": [
    "def load_train_dataset():\n",
    "    data_path = 'AUCdata/v2_cam1_cam2_ split_by_driver/Camera 1/train/'\n",
    "    train_dataset = torchvision.datasets.ImageFolder(\n",
    "        root=data_path,\n",
    "        transform=torchvision.transforms.Compose([\n",
    "        transforms.Resize(size=(100, 100)),\n",
    "        transforms.RandomHorizontalFlip(),\n",
    "        transforms.ToTensor(),\n",
    "        transforms.Normalize(mean=[0.485, 0.456, 0.406],\n",
    "                             std=[0.229, 0.224, 0.225])\n",
    "    ])\n",
    "    )\n",
    "    return train_dataset\n",
    "\n",
    "def load_test_dataset():\n",
    "    data_path = 'AUCdata/v2_cam1_cam2_ split_by_driver/Camera 1/test/'\n",
    "    test_dataset = torchvision.datasets.ImageFolder(\n",
    "        root = data_path,\n",
    "        transform = transforms.ToTensor()\n",
    "    )\n",
    "    test_loader = torch.utils.data.DataLoader(\n",
    "        test_dataset,\n",
    "        batch_size = 16,\n",
    "        num_workers = 4,\n",
    "        shuffle = False\n",
    "    )\n",
    "    return test_loader"
   ]
  },
  {
   "cell_type": "code",
   "execution_count": 5,
   "metadata": {},
   "outputs": [],
   "source": [
    "dataset = load_train_dataset()\n",
    "batch_size = 16\n",
    "validation_split = .2\n",
    "shuffle_dataset = True\n",
    "random_seed= 42\n",
    "\n",
    "dataset_size = len(dataset)\n",
    "indices = list(range(dataset_size))\n",
    "split = int(np.floor(validation_split * dataset_size))\n",
    "if shuffle_dataset :\n",
    "    np.random.seed(random_seed)\n",
    "    np.random.shuffle(indices)\n",
    "train_indices, val_indices = indices[split:], indices[:split]\n",
    "\n",
    "train_sampler = SubsetRandomSampler(train_indices)\n",
    "valid_sampler = SubsetRandomSampler(val_indices)\n",
    "\n",
    "train_loader = torch.utils.data.DataLoader(dataset, batch_size=batch_size, \n",
    "                                           sampler=train_sampler)\n",
    "validation_loader = torch.utils.data.DataLoader(dataset, batch_size=batch_size,\n",
    "                                                sampler=valid_sampler)\n",
    "\n",
    "testLoader = load_test_dataset()"
   ]
  },
  {
   "cell_type": "code",
   "execution_count": 6,
   "metadata": {},
   "outputs": [],
   "source": [
    "if torch.cuda.is_available():\n",
    "    vgg.cuda()"
   ]
  },
  {
   "cell_type": "code",
   "execution_count": 7,
   "metadata": {},
   "outputs": [],
   "source": [
    "criterion = nn.CrossEntropyLoss()"
   ]
  },
  {
   "cell_type": "code",
   "execution_count": 8,
   "metadata": {},
   "outputs": [],
   "source": [
    "learning_rate = 0.001\n",
    "\n",
    "optimizer = torch.optim.Adam(vgg.parameters(), lr = learning_rate)"
   ]
  },
  {
   "cell_type": "code",
   "execution_count": 9,
   "metadata": {},
   "outputs": [],
   "source": [
    "def train(model,dataloaderList,epochs, device = 'cpu',saveName=None):\n",
    "    \n",
    "    trainloader=dataloaderList[0]\n",
    "    valloader=dataloaderList[1]\n",
    "\n",
    "    valAccList=[]\n",
    "    \n",
    "    print('Start Training...')\n",
    "    for epoch in range(epochs):\n",
    "        running_loss=0\n",
    "        \n",
    "        for i_batch, (images, labels) in enumerate(trainloader):\n",
    "            \n",
    "            images=Variable(images,requires_grad=True).to(device)\n",
    "            labels=Variable(labels).to(device)\n",
    "            \n",
    "            optimizer.zero_grad()\n",
    "            \n",
    "            outputs=model(images)\n",
    "\n",
    "            loss=criterion(outputs,labels)\n",
    "            \n",
    "            loss.backward()\n",
    "            \n",
    "            optimizer.step()\n",
    "            \n",
    "            running_loss += loss.item()\n",
    "            \n",
    "            if i_batch%100 == 99:\n",
    "                print('[%2d,%5d] Training Loss: %.3f'  % \n",
    "                      (epoch+1,i_batch+1,running_loss/100))\n",
    "                running_loss = 0\n",
    "\n",
    "               \n",
    "        print('Validating the model')\n",
    "        \n",
    "        with torch.no_grad():\n",
    "            valPreds=[]\n",
    "            valLabels=[]\n",
    "            for i_batch, (images, labels) in enumerate(valloader):\n",
    "                \n",
    "                images= images.to(device)\n",
    "                labels= labels.numpy()\n",
    "                \n",
    "                preds=model(images)\n",
    "                preds=preds.cpu().numpy()\n",
    "                \n",
    "                pred_labels=np.argmax(preds,axis=-1)\n",
    "                valPreds.append(pred_labels)\n",
    "                valLabels.append(labels)\n",
    "            \n",
    "            valPreds=np.concatenate(valPreds)\n",
    "            valLabels=np.concatenate(valLabels)\n",
    "            size=valPreds.shape[0]\n",
    "            running_corrects=np.sum(valPreds==valLabels)\n",
    "        \n",
    "            acc=float(running_corrects)/size\n",
    "            valAccList.append(acc)\n",
    "            print('Accuracy after epoch %2d is %.3f' % (epoch+1,acc))\n",
    "    \n",
    "    print(\"Finished Training\")\n",
    "    print(\"Saving Model\")\n",
    "    torch.save(model.state_dict(),'Model_weights/'+saveName+'.pt')\n",
    "    \n",
    "    return model,valAccList"
   ]
  },
  {
   "cell_type": "code",
   "execution_count": null,
   "metadata": {},
   "outputs": [],
   "source": [
    "vgg_1, valAccList_1 = train(vgg, [train_loader, validation_loader], 15, device, 'vgg')"
   ]
  },
  {
   "cell_type": "code",
   "execution_count": 13,
   "metadata": {
    "collapsed": true
   },
   "outputs": [
    {
     "data": {
      "text/plain": [
       "Sequential(\n",
       "  (0): VGG(\n",
       "    (features): Sequential(\n",
       "      (0): Conv2d(3, 64, kernel_size=(3, 3), stride=(1, 1), padding=(1, 1))\n",
       "      (1): ReLU(inplace)\n",
       "      (2): Conv2d(64, 64, kernel_size=(3, 3), stride=(1, 1), padding=(1, 1))\n",
       "      (3): ReLU(inplace)\n",
       "      (4): MaxPool2d(kernel_size=2, stride=2, padding=0, dilation=1, ceil_mode=False)\n",
       "      (5): Conv2d(64, 128, kernel_size=(3, 3), stride=(1, 1), padding=(1, 1))\n",
       "      (6): ReLU(inplace)\n",
       "      (7): Conv2d(128, 128, kernel_size=(3, 3), stride=(1, 1), padding=(1, 1))\n",
       "      (8): ReLU(inplace)\n",
       "      (9): MaxPool2d(kernel_size=2, stride=2, padding=0, dilation=1, ceil_mode=False)\n",
       "      (10): Conv2d(128, 256, kernel_size=(3, 3), stride=(1, 1), padding=(1, 1))\n",
       "      (11): ReLU(inplace)\n",
       "      (12): Conv2d(256, 256, kernel_size=(3, 3), stride=(1, 1), padding=(1, 1))\n",
       "      (13): ReLU(inplace)\n",
       "      (14): Conv2d(256, 256, kernel_size=(3, 3), stride=(1, 1), padding=(1, 1))\n",
       "      (15): ReLU(inplace)\n",
       "      (16): MaxPool2d(kernel_size=2, stride=2, padding=0, dilation=1, ceil_mode=False)\n",
       "      (17): Conv2d(256, 512, kernel_size=(3, 3), stride=(1, 1), padding=(1, 1))\n",
       "      (18): ReLU(inplace)\n",
       "      (19): Conv2d(512, 512, kernel_size=(3, 3), stride=(1, 1), padding=(1, 1))\n",
       "      (20): ReLU(inplace)\n",
       "      (21): Conv2d(512, 512, kernel_size=(3, 3), stride=(1, 1), padding=(1, 1))\n",
       "      (22): ReLU(inplace)\n",
       "      (23): MaxPool2d(kernel_size=2, stride=2, padding=0, dilation=1, ceil_mode=False)\n",
       "      (24): Conv2d(512, 512, kernel_size=(3, 3), stride=(1, 1), padding=(1, 1))\n",
       "      (25): ReLU(inplace)\n",
       "      (26): Conv2d(512, 512, kernel_size=(3, 3), stride=(1, 1), padding=(1, 1))\n",
       "      (27): ReLU(inplace)\n",
       "      (28): Conv2d(512, 512, kernel_size=(3, 3), stride=(1, 1), padding=(1, 1))\n",
       "      (29): ReLU(inplace)\n",
       "      (30): MaxPool2d(kernel_size=2, stride=2, padding=0, dilation=1, ceil_mode=False)\n",
       "    )\n",
       "    (avgpool): AdaptiveAvgPool2d(output_size=(7, 7))\n",
       "    (classifier): Sequential(\n",
       "      (0): Linear(in_features=25088, out_features=4096, bias=True)\n",
       "      (1): ReLU(inplace)\n",
       "      (2): Dropout(p=0.5)\n",
       "      (3): Linear(in_features=4096, out_features=4096, bias=True)\n",
       "      (4): ReLU(inplace)\n",
       "      (5): Dropout(p=0.5)\n",
       "      (6): Linear(in_features=4096, out_features=1024, bias=True)\n",
       "    )\n",
       "  )\n",
       "  (1): ReLU()\n",
       "  (2): Dropout(p=0.3)\n",
       "  (3): Linear(in_features=1024, out_features=128, bias=True)\n",
       "  (4): ReLU()\n",
       "  (5): Dropout(p=0.2)\n",
       "  (6): Linear(in_features=128, out_features=10, bias=True)\n",
       ")"
      ]
     },
     "execution_count": 13,
     "metadata": {},
     "output_type": "execute_result"
    }
   ],
   "source": [
    "model = vgg\n",
    "vgg.load_state_dict(torch.load('Model_weights/vgg.pt'))\n",
    "vgg.eval()"
   ]
  },
  {
   "cell_type": "code",
   "execution_count": 16,
   "metadata": {},
   "outputs": [
    {
     "name": "stdout",
     "output_type": "stream",
     "text": [
      "Accuracy after 15 epochs is 0.886\n"
     ]
    }
   ],
   "source": [
    "with torch.no_grad():\n",
    "            valPreds=[]\n",
    "            valLabels=[]\n",
    "            valAccList = []\n",
    "            for i_batch, (images, labels) in enumerate(validation_loader):\n",
    "                \n",
    "                images= images.to(device)\n",
    "                labels= labels.numpy()\n",
    "                \n",
    "                preds=model(images)\n",
    "                preds=preds.cpu().numpy()\n",
    "                \n",
    "                pred_labels=np.argmax(preds,axis=-1)\n",
    "                valPreds.append(pred_labels)\n",
    "                valLabels.append(labels)\n",
    "            \n",
    "            valPreds=np.concatenate(valPreds)\n",
    "            valLabels=np.concatenate(valLabels)\n",
    "            size=valPreds.shape[0]\n",
    "            running_corrects=np.sum(valPreds==valLabels)\n",
    "        \n",
    "            acc=float(running_corrects)/size\n",
    "            valAccList.append(acc)\n",
    "            print('Accuracy after 15 epochs is %.3f' % (acc))"
   ]
  },
  {
   "cell_type": "code",
   "execution_count": null,
   "metadata": {},
   "outputs": [],
   "source": []
  },
  {
   "cell_type": "code",
   "execution_count": null,
   "metadata": {},
   "outputs": [],
   "source": []
  }
 ],
 "metadata": {
  "kernelspec": {
   "display_name": "Python 3",
   "language": "python",
   "name": "python3"
  },
  "language_info": {
   "codemirror_mode": {
    "name": "ipython",
    "version": 2
   },
   "file_extension": ".py",
   "mimetype": "text/x-python",
   "name": "python",
   "nbconvert_exporter": "python",
   "pygments_lexer": "ipython2",
   "version": "2.7.15rc1"
  }
 },
 "nbformat": 4,
 "nbformat_minor": 2
}
