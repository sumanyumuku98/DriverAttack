{
 "cells": [
  {
   "cell_type": "markdown",
   "metadata": {},
   "source": [
    "# ART - Adversarial Patch - TensorFlow v2"
   ]
  },
  {
   "cell_type": "code",
   "execution_count": null,
   "metadata": {},
   "outputs": [],
   "source": [
    "import warnings\n",
    "warnings.filterwarnings('ignore')\n",
    "\n",
    "import random\n",
    "import numpy as np\n",
    "from matplotlib import pyplot as plt\n",
    "plt.rcParams['figure.figsize'] = [10, 10]\n",
    "import imagenet_stubs\n",
    "from imagenet_stubs.imagenet_2012_labels import name_to_label\n",
    "\n",
    "import tensorflow as tf\n",
    "from tensorflow.keras.applications.resnet50 import preprocess_input, decode_predictions\n",
    "from tensorflow.keras.preprocessing import image\n",
    "\n",
    "from art.estimators.classification import TensorFlowV2Classifier, EnsembleClassifier\n",
    "from art.attacks.evasion import AdversarialPatch"
   ]
  },
  {
   "cell_type": "code",
   "execution_count": null,
   "metadata": {},
   "outputs": [],
   "source": [
    "import tensorflow as tf\n",
    "print(\"Num GPUs Available: \", len(tf.config.experimental.list_physical_devices('GPU')))"
   ]
  },
  {
   "cell_type": "code",
   "execution_count": null,
   "metadata": {},
   "outputs": [],
   "source": [
    "print(tf.__version__)"
   ]
  },
  {
   "cell_type": "markdown",
   "metadata": {},
   "source": [
    "# Settings"
   ]
  },
  {
   "cell_type": "code",
   "execution_count": null,
   "metadata": {},
   "outputs": [],
   "source": [
    "target_name = 'toaster'\n",
    "image_shape = (224, 224, 3)\n",
    "clip_values = (0, 255)\n",
    "nb_classes  =1000\n",
    "batch_size = 16\n",
    "scale_min = 0.4\n",
    "scale_max = 1.0\n",
    "rotation_max = 22.5\n",
    "learning_rate = 5000.\n",
    "max_iter = 10"
   ]
  },
  {
   "cell_type": "markdown",
   "metadata": {},
   "source": [
    "# Model definition"
   ]
  },
  {
   "cell_type": "code",
   "execution_count": null,
   "metadata": {},
   "outputs": [],
   "source": [
    "model = tf.keras.applications.resnet50.ResNet50(weights=\"imagenet\")\n",
    "\n",
    "mean_b = 103.939\n",
    "mean_g = 116.779\n",
    "mean_r = 123.680\n",
    "\n",
    "tfc = TensorFlowV2Classifier(model=model, loss_object=None, train_step=None, nb_classes=nb_classes,\n",
    "                             input_shape=image_shape, clip_values=clip_values, \n",
    "                             preprocessing=([mean_b, mean_g, mean_r], 1), zoo_Adam= False)"
   ]
  },
  {
   "cell_type": "markdown",
   "metadata": {},
   "source": [
    "# Imagenet training images"
   ]
  },
  {
   "cell_type": "code",
   "execution_count": null,
   "metadata": {},
   "outputs": [],
   "source": [
    "images_list = list()\n",
    "\n",
    "for image_path in imagenet_stubs.get_image_paths():\n",
    "    im = image.load_img(image_path, target_size=(224, 224))\n",
    "    im = image.img_to_array(im)\n",
    "    im = im[:, :, ::-1].astype(np.float32) # RGB to BGR\n",
    "    im = np.expand_dims(im, axis=0)\n",
    "    images_list.append(im)\n",
    "\n",
    "images = np.vstack(images_list)"
   ]
  },
  {
   "cell_type": "code",
   "execution_count": null,
   "metadata": {},
   "outputs": [],
   "source": [
    "def bgr_to_rgb(x):\n",
    "    return x[:, :, ::-1]"
   ]
  },
  {
   "cell_type": "markdown",
   "metadata": {},
   "source": [
    "# Adversarial patch generation"
   ]
  },
  {
   "cell_type": "code",
   "execution_count": null,
   "metadata": {
    "scrolled": true
   },
   "outputs": [],
   "source": [
    "ap = AdversarialPatch(classifier=tfc, rotation_max=rotation_max, scale_min=scale_min, scale_max=scale_max,\n",
    "                      learning_rate=learning_rate, max_iter=max_iter, batch_size=batch_size,\n",
    "                      patch_shape=(224, 224, 3))\n",
    "\n",
    "label = name_to_label(target_name)\n",
    "y_one_hot = np.zeros(nb_classes)\n",
    "y_one_hot[label] = 1.0\n",
    "y_target = np.tile(y_one_hot, (images.shape[0], 1))\n",
    "\n",
    "patch, patch_mask = ap.generate(x=images, y=y_target)"
   ]
  },
  {
   "cell_type": "code",
   "execution_count": null,
   "metadata": {},
   "outputs": [],
   "source": [
    "plt.imshow((bgr_to_rgb(patch) * patch_mask).astype(np.uint8))"
   ]
  },
  {
   "cell_type": "markdown",
   "metadata": {},
   "source": [
    "# Evaluation"
   ]
  },
  {
   "cell_type": "code",
   "execution_count": null,
   "metadata": {},
   "outputs": [],
   "source": [
    "patched_images = ap.apply_patch(images, scale=0.5)"
   ]
  },
  {
   "cell_type": "code",
   "execution_count": null,
   "metadata": {},
   "outputs": [],
   "source": [
    "def predict_model(classifier, image):\n",
    "    plt.imshow(bgr_to_rgb(image.astype(np.uint8)))\n",
    "    plt.show()\n",
    "    \n",
    "    image = np.copy(image)\n",
    "    image = np.expand_dims(image, axis=0)\n",
    "    \n",
    "    prediction = classifier.predict(image)\n",
    "    \n",
    "    top = 5\n",
    "    prediction_decode = decode_predictions(prediction, top=top)[0]\n",
    "    print('Predictions:')\n",
    "    \n",
    "    lengths = list()\n",
    "    for i in range(top):\n",
    "        lengths.append(len(prediction_decode[i][1]))\n",
    "    max_length = max(lengths)\n",
    "    \n",
    "    for i in range(top):\n",
    "        name = prediction_decode[i][1]\n",
    "        name = name.ljust(max_length, \" \")\n",
    "        probability = prediction_decode[i][2]\n",
    "        output_str = \"{} {:.2f}\".format(name, probability)\n",
    "        print(output_str)"
   ]
  },
  {
   "cell_type": "code",
   "execution_count": null,
   "metadata": {},
   "outputs": [],
   "source": [
    "predict_model(tfc, patched_images[0])"
   ]
  },
  {
   "cell_type": "code",
   "execution_count": null,
   "metadata": {},
   "outputs": [],
   "source": [
    "predict_model(tfc, patched_images[1])"
   ]
  },
  {
   "cell_type": "code",
   "execution_count": null,
   "metadata": {},
   "outputs": [],
   "source": [
    "predict_model(tfc, patched_images[2])"
   ]
  },
  {
   "cell_type": "code",
   "execution_count": null,
   "metadata": {},
   "outputs": [],
   "source": []
  },
  {
   "cell_type": "code",
   "execution_count": null,
   "metadata": {},
   "outputs": [],
   "source": []
  }
 ],
 "metadata": {
  "kernelspec": {
   "display_name": "SATYA",
   "language": "python",
   "name": "satya"
  },
  "language_info": {
   "codemirror_mode": {
    "name": "ipython",
    "version": 3
   },
   "file_extension": ".py",
   "mimetype": "text/x-python",
   "name": "python",
   "nbconvert_exporter": "python",
   "pygments_lexer": "ipython3",
   "version": "3.6.10"
  }
 },
 "nbformat": 4,
 "nbformat_minor": 4
}
